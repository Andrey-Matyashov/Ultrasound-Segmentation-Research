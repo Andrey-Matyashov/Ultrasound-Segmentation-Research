{
 "cells": [
  {
   "cell_type": "markdown",
   "id": "d79653d4",
   "metadata": {},
   "source": [
    "## Описание эксперимента\n",
    "\n",
    "__Цель эксперимента__: обучение классификационной головы для предсказания четырех классов узлов щитовидной железы, используя в качестве feature extractor - сеть `EfficientNetB7` из общей архитектуры `Unet`, обученной на сегментацию узлов щитовидной железы."
   ]
  },
  {
   "cell_type": "code",
   "execution_count": 1,
   "id": "1b288c5d",
   "metadata": {},
   "outputs": [
    {
     "name": "stdout",
     "output_type": "stream",
     "text": [
      "Requirement already satisfied: segmentation-models-pytorch==0.3.4 in /usr/local/lib/python3.11/dist-packages (0.3.4)\n",
      "Requirement already satisfied: efficientnet-pytorch==0.7.1 in /usr/local/lib/python3.11/dist-packages (from segmentation-models-pytorch==0.3.4) (0.7.1)\n",
      "Requirement already satisfied: huggingface-hub>=0.24.6 in /usr/local/lib/python3.11/dist-packages (from segmentation-models-pytorch==0.3.4) (0.31.1)\n",
      "Requirement already satisfied: pillow in /usr/local/lib/python3.11/dist-packages (from segmentation-models-pytorch==0.3.4) (11.1.0)\n",
      "Requirement already satisfied: pretrainedmodels==0.7.4 in /usr/local/lib/python3.11/dist-packages (from segmentation-models-pytorch==0.3.4) (0.7.4)\n",
      "Requirement already satisfied: six in /usr/local/lib/python3.11/dist-packages (from segmentation-models-pytorch==0.3.4) (1.17.0)\n",
      "Requirement already satisfied: timm==0.9.7 in /usr/local/lib/python3.11/dist-packages (from segmentation-models-pytorch==0.3.4) (0.9.7)\n",
      "Requirement already satisfied: torchvision>=0.5.0 in /usr/local/lib/python3.11/dist-packages (from segmentation-models-pytorch==0.3.4) (0.21.0+cu124)\n",
      "Requirement already satisfied: tqdm in /usr/local/lib/python3.11/dist-packages (from segmentation-models-pytorch==0.3.4) (4.67.1)\n",
      "Requirement already satisfied: torch in /usr/local/lib/python3.11/dist-packages (from efficientnet-pytorch==0.7.1->segmentation-models-pytorch==0.3.4) (2.6.0+cu124)\n",
      "Requirement already satisfied: munch in /usr/local/lib/python3.11/dist-packages (from pretrainedmodels==0.7.4->segmentation-models-pytorch==0.3.4) (4.0.0)\n",
      "Requirement already satisfied: pyyaml in /usr/local/lib/python3.11/dist-packages (from timm==0.9.7->segmentation-models-pytorch==0.3.4) (6.0.2)\n",
      "Requirement already satisfied: safetensors in /usr/local/lib/python3.11/dist-packages (from timm==0.9.7->segmentation-models-pytorch==0.3.4) (0.5.3)\n",
      "Requirement already satisfied: filelock in /usr/local/lib/python3.11/dist-packages (from huggingface-hub>=0.24.6->segmentation-models-pytorch==0.3.4) (3.18.0)\n",
      "Requirement already satisfied: fsspec>=2023.5.0 in /usr/local/lib/python3.11/dist-packages (from huggingface-hub>=0.24.6->segmentation-models-pytorch==0.3.4) (2025.3.2)\n",
      "Requirement already satisfied: packaging>=20.9 in /usr/local/lib/python3.11/dist-packages (from huggingface-hub>=0.24.6->segmentation-models-pytorch==0.3.4) (25.0)\n",
      "Requirement already satisfied: requests in /usr/local/lib/python3.11/dist-packages (from huggingface-hub>=0.24.6->segmentation-models-pytorch==0.3.4) (2.32.3)\n",
      "Requirement already satisfied: typing-extensions>=3.7.4.3 in /usr/local/lib/python3.11/dist-packages (from huggingface-hub>=0.24.6->segmentation-models-pytorch==0.3.4) (4.13.2)\n",
      "Requirement already satisfied: hf-xet<2.0.0,>=1.1.0 in /usr/local/lib/python3.11/dist-packages (from huggingface-hub>=0.24.6->segmentation-models-pytorch==0.3.4) (1.1.0)\n",
      "Requirement already satisfied: numpy in /usr/local/lib/python3.11/dist-packages (from torchvision>=0.5.0->segmentation-models-pytorch==0.3.4) (1.26.4)\n",
      "Requirement already satisfied: networkx in /usr/local/lib/python3.11/dist-packages (from torch->efficientnet-pytorch==0.7.1->segmentation-models-pytorch==0.3.4) (3.4.2)\n",
      "Requirement already satisfied: jinja2 in /usr/local/lib/python3.11/dist-packages (from torch->efficientnet-pytorch==0.7.1->segmentation-models-pytorch==0.3.4) (3.1.6)\n",
      "Requirement already satisfied: nvidia-cuda-nvrtc-cu12==12.4.127 in /usr/local/lib/python3.11/dist-packages (from torch->efficientnet-pytorch==0.7.1->segmentation-models-pytorch==0.3.4) (12.4.127)\n",
      "Requirement already satisfied: nvidia-cuda-runtime-cu12==12.4.127 in /usr/local/lib/python3.11/dist-packages (from torch->efficientnet-pytorch==0.7.1->segmentation-models-pytorch==0.3.4) (12.4.127)\n",
      "Requirement already satisfied: nvidia-cuda-cupti-cu12==12.4.127 in /usr/local/lib/python3.11/dist-packages (from torch->efficientnet-pytorch==0.7.1->segmentation-models-pytorch==0.3.4) (12.4.127)\n",
      "Requirement already satisfied: nvidia-cudnn-cu12==9.1.0.70 in /usr/local/lib/python3.11/dist-packages (from torch->efficientnet-pytorch==0.7.1->segmentation-models-pytorch==0.3.4) (9.1.0.70)\n",
      "Requirement already satisfied: nvidia-cublas-cu12==12.4.5.8 in /usr/local/lib/python3.11/dist-packages (from torch->efficientnet-pytorch==0.7.1->segmentation-models-pytorch==0.3.4) (12.4.5.8)\n",
      "Requirement already satisfied: nvidia-cufft-cu12==11.2.1.3 in /usr/local/lib/python3.11/dist-packages (from torch->efficientnet-pytorch==0.7.1->segmentation-models-pytorch==0.3.4) (11.2.1.3)\n",
      "Requirement already satisfied: nvidia-curand-cu12==10.3.5.147 in /usr/local/lib/python3.11/dist-packages (from torch->efficientnet-pytorch==0.7.1->segmentation-models-pytorch==0.3.4) (10.3.5.147)\n",
      "Requirement already satisfied: nvidia-cusolver-cu12==11.6.1.9 in /usr/local/lib/python3.11/dist-packages (from torch->efficientnet-pytorch==0.7.1->segmentation-models-pytorch==0.3.4) (11.6.1.9)\n",
      "Requirement already satisfied: nvidia-cusparse-cu12==12.3.1.170 in /usr/local/lib/python3.11/dist-packages (from torch->efficientnet-pytorch==0.7.1->segmentation-models-pytorch==0.3.4) (12.3.1.170)\n",
      "Requirement already satisfied: nvidia-cusparselt-cu12==0.6.2 in /usr/local/lib/python3.11/dist-packages (from torch->efficientnet-pytorch==0.7.1->segmentation-models-pytorch==0.3.4) (0.6.2)\n",
      "Requirement already satisfied: nvidia-nccl-cu12==2.21.5 in /usr/local/lib/python3.11/dist-packages (from torch->efficientnet-pytorch==0.7.1->segmentation-models-pytorch==0.3.4) (2.21.5)\n",
      "Requirement already satisfied: nvidia-nvtx-cu12==12.4.127 in /usr/local/lib/python3.11/dist-packages (from torch->efficientnet-pytorch==0.7.1->segmentation-models-pytorch==0.3.4) (12.4.127)\n",
      "Requirement already satisfied: nvidia-nvjitlink-cu12==12.4.127 in /usr/local/lib/python3.11/dist-packages (from torch->efficientnet-pytorch==0.7.1->segmentation-models-pytorch==0.3.4) (12.4.127)\n",
      "Requirement already satisfied: triton==3.2.0 in /usr/local/lib/python3.11/dist-packages (from torch->efficientnet-pytorch==0.7.1->segmentation-models-pytorch==0.3.4) (3.2.0)\n",
      "Requirement already satisfied: sympy==1.13.1 in /usr/local/lib/python3.11/dist-packages (from torch->efficientnet-pytorch==0.7.1->segmentation-models-pytorch==0.3.4) (1.13.1)\n",
      "Requirement already satisfied: mpmath<1.4,>=1.1.0 in /usr/local/lib/python3.11/dist-packages (from sympy==1.13.1->torch->efficientnet-pytorch==0.7.1->segmentation-models-pytorch==0.3.4) (1.3.0)\n",
      "Requirement already satisfied: mkl_fft in /usr/local/lib/python3.11/dist-packages (from numpy->torchvision>=0.5.0->segmentation-models-pytorch==0.3.4) (1.3.8)\n",
      "Requirement already satisfied: mkl_random in /usr/local/lib/python3.11/dist-packages (from numpy->torchvision>=0.5.0->segmentation-models-pytorch==0.3.4) (1.2.4)\n",
      "Requirement already satisfied: mkl_umath in /usr/local/lib/python3.11/dist-packages (from numpy->torchvision>=0.5.0->segmentation-models-pytorch==0.3.4) (0.1.1)\n",
      "Requirement already satisfied: mkl in /usr/local/lib/python3.11/dist-packages (from numpy->torchvision>=0.5.0->segmentation-models-pytorch==0.3.4) (2025.1.0)\n",
      "Requirement already satisfied: tbb4py in /usr/local/lib/python3.11/dist-packages (from numpy->torchvision>=0.5.0->segmentation-models-pytorch==0.3.4) (2022.1.0)\n",
      "Requirement already satisfied: mkl-service in /usr/local/lib/python3.11/dist-packages (from numpy->torchvision>=0.5.0->segmentation-models-pytorch==0.3.4) (2.4.1)\n",
      "Requirement already satisfied: charset-normalizer<4,>=2 in /usr/local/lib/python3.11/dist-packages (from requests->huggingface-hub>=0.24.6->segmentation-models-pytorch==0.3.4) (3.4.2)\n",
      "Requirement already satisfied: idna<4,>=2.5 in /usr/local/lib/python3.11/dist-packages (from requests->huggingface-hub>=0.24.6->segmentation-models-pytorch==0.3.4) (3.10)\n",
      "Requirement already satisfied: urllib3<3,>=1.21.1 in /usr/local/lib/python3.11/dist-packages (from requests->huggingface-hub>=0.24.6->segmentation-models-pytorch==0.3.4) (2.4.0)\n",
      "Requirement already satisfied: certifi>=2017.4.17 in /usr/local/lib/python3.11/dist-packages (from requests->huggingface-hub>=0.24.6->segmentation-models-pytorch==0.3.4) (2025.4.26)\n",
      "Requirement already satisfied: MarkupSafe>=2.0 in /usr/local/lib/python3.11/dist-packages (from jinja2->torch->efficientnet-pytorch==0.7.1->segmentation-models-pytorch==0.3.4) (3.0.2)\n",
      "Requirement already satisfied: intel-openmp<2026,>=2024 in /usr/local/lib/python3.11/dist-packages (from mkl->numpy->torchvision>=0.5.0->segmentation-models-pytorch==0.3.4) (2024.2.0)\n",
      "Requirement already satisfied: tbb==2022.* in /usr/local/lib/python3.11/dist-packages (from mkl->numpy->torchvision>=0.5.0->segmentation-models-pytorch==0.3.4) (2022.1.0)\n",
      "Requirement already satisfied: tcmlib==1.* in /usr/local/lib/python3.11/dist-packages (from tbb==2022.*->mkl->numpy->torchvision>=0.5.0->segmentation-models-pytorch==0.3.4) (1.3.0)\n",
      "Requirement already satisfied: intel-cmplr-lib-rt in /usr/local/lib/python3.11/dist-packages (from mkl_umath->numpy->torchvision>=0.5.0->segmentation-models-pytorch==0.3.4) (2024.2.0)\n",
      "Requirement already satisfied: intel-cmplr-lib-ur==2024.2.0 in /usr/local/lib/python3.11/dist-packages (from intel-openmp<2026,>=2024->mkl->numpy->torchvision>=0.5.0->segmentation-models-pytorch==0.3.4) (2024.2.0)\n"
     ]
    }
   ],
   "source": [
    "!pip install segmentation-models-pytorch==0.3.4"
   ]
  },
  {
   "cell_type": "code",
   "execution_count": 2,
   "id": "13f729a0",
   "metadata": {},
   "outputs": [
    {
     "name": "stderr",
     "output_type": "stream",
     "text": [
      "/usr/local/lib/python3.11/dist-packages/albumentations/__init__.py:28: UserWarning: A new version of Albumentations is available: '2.0.8' (you have '2.0.5'). Upgrade using: pip install -U albumentations. To disable automatic update checks, set the environment variable NO_ALBUMENTATIONS_UPDATE to 1.\n",
      "  check_for_updates()\n"
     ]
    }
   ],
   "source": [
    "import os\n",
    "import cv2\n",
    "import numpy as np\n",
    "import random\n",
    "import torch\n",
    "import seaborn as sns\n",
    "import torch.nn as nn\n",
    "from copy import copy\n",
    "import torch.nn.functional as F\n",
    "from tqdm.notebook import tqdm\n",
    "from collections import defaultdict\n",
    "import matplotlib.pyplot as plt\n",
    "import albumentations as A\n",
    "from IPython.display import clear_output\n",
    "from torch.utils.data import DataLoader, Dataset\n",
    "import segmentation_models_pytorch as smp\n",
    "from albumentations.pytorch import ToTensorV2\n",
    "import torchvision.transforms as transforms \n",
    "from sklearn.metrics import accuracy_score, f1_score\n",
    "from scipy.special import softmax\n",
    "\n",
    "import warnings\n",
    "warnings.filterwarnings(\"ignore\")"
   ]
  },
  {
   "cell_type": "code",
   "execution_count": 5,
   "id": "aa53497d",
   "metadata": {},
   "outputs": [],
   "source": [
    "TEST_DIR_PATH = \"/kaggle/input/rois-changed-areas/0.1_changed_roi_areas_10percent/test\"\n",
    "TRAIN_DIR_PATH = \"/kaggle/input/rois-changed-areas/0.1_changed_roi_areas_10percent/train\""
   ]
  },
  {
   "cell_type": "markdown",
   "id": "ea476905",
   "metadata": {},
   "source": [
    "### Utils"
   ]
  },
  {
   "cell_type": "code",
   "execution_count": 6,
   "id": "de9d93e1",
   "metadata": {},
   "outputs": [],
   "source": [
    "import numpy as np\n",
    "import matplotlib.pyplot as plt\n",
    "import seaborn as sns\n",
    "from sklearn.metrics import confusion_matrix\n",
    "\n",
    "def plot_confusion_matrix(pred_dict, classes, normalize=True, title='Confusion matrix', cmap=plt.cm.Blues):\n",
    "    \"\"\"\n",
    "    Визуализация матрицы ошибок из словаря предсказаний.\n",
    "    \n",
    "    Args:\n",
    "        pred_dict (dict): Словарь {true_class: [predicted_classes]}\n",
    "        classes (list): Список всех классов в правильном порядке\n",
    "        normalize (bool): Нормализовать ли значения по строкам\n",
    "        title (str): Заголовок графика\n",
    "        cmap: Цветовая схема\n",
    "    \"\"\"\n",
    "    # Инициализация матрицы\n",
    "    n_classes = len(classes)\n",
    "    conf_mat = np.zeros((n_classes, n_classes), dtype=np.int32)\n",
    "    \n",
    "    # Заполнение матрицы из словаря\n",
    "    for true_class, pred_classes in pred_dict.items():\n",
    "        true_idx = classes.index(true_class)\n",
    "        for pred_class in pred_classes:\n",
    "            pred_idx = classes.index(pred_class)\n",
    "            conf_mat[true_idx][pred_idx] += 1\n",
    "    \n",
    "    # Нормализация (если нужно)\n",
    "    if normalize:\n",
    "        conf_mat = conf_mat.astype('float') / conf_mat.sum(axis=1)[:, np.newaxis]\n",
    "        fmt = '.2f'\n",
    "    else:\n",
    "        fmt = 'd'\n",
    "    \n",
    "    # Визуализация\n",
    "    plt.figure(figsize=(8, 6))\n",
    "    sns.heatmap(conf_mat, annot=True, fmt=fmt, cmap=cmap,\n",
    "                xticklabels=classes, yticklabels=classes)\n",
    "    \n",
    "    plt.title(title)\n",
    "    plt.ylabel('Истинный класс')\n",
    "    plt.xlabel('Предсказанный класс')\n",
    "    plt.xticks(rotation=45)\n",
    "    plt.yticks(rotation=0)\n",
    "    plt.tight_layout()\n",
    "    plt.show()"
   ]
  },
  {
   "cell_type": "code",
   "execution_count": 7,
   "id": "4e66ebf7",
   "metadata": {},
   "outputs": [],
   "source": [
    "def get_folders(directory):\n",
    "    folders = []\n",
    "    for item in os.listdir(directory):\n",
    "        item_path = os.path.join(directory, item)\n",
    "        if os.path.isdir(item_path):\n",
    "            folders.append(item)\n",
    "    return folders\n",
    "\n",
    "\n",
    "def get_files(directory):\n",
    "    files = []\n",
    "    for item in os.listdir(directory):\n",
    "        item_path = os.path.join(directory, item)\n",
    "        if os.path.isfile(item_path):\n",
    "            files.append(item)\n",
    "    return files"
   ]
  },
  {
   "cell_type": "code",
   "execution_count": 8,
   "id": "cc73e0d8",
   "metadata": {},
   "outputs": [],
   "source": [
    "def get_only_n_objects(x, n=4):\n",
    "    new_x = []\n",
    "    if len(x) >= n:\n",
    "        step = len(x) // n\n",
    "        for i in range(0, len(x), step):\n",
    "            new_x.append(x[i])\n",
    "            if len(new_x) == n:\n",
    "                return new_x\n",
    "    else:\n",
    "        new_x = copy(x)\n",
    "        while len(new_x) != n:\n",
    "            new_x.append(\n",
    "                random.choice(x)\n",
    "            )\n",
    "    return new_x"
   ]
  },
  {
   "cell_type": "markdown",
   "id": "89618fc3",
   "metadata": {},
   "source": [
    "### Data Loading"
   ]
  },
  {
   "cell_type": "code",
   "execution_count": 9,
   "id": "08a59a6d",
   "metadata": {},
   "outputs": [],
   "source": [
    "def load_images_from_dir(path_dir: str):\n",
    "\n",
    "    class_folders_names = get_folders(path_dir)\n",
    "    class_folders_pathes = [os.path.join(path_dir, folder) for folder in class_folders_names]\n",
    "    nodules_seqs_dirs = []\n",
    "    for class_folder_path in class_folders_pathes:\n",
    "        nodules_seqs = get_folders(class_folder_path)\n",
    "        nodules_seqs_dirs.extend([os.path.join(class_folder_path, seq) for seq in nodules_seqs])\n",
    "        \n",
    "    images_pathes = [] \n",
    "    masks_pathes = []    \n",
    "\n",
    "    for nodule_seq_dir in tqdm(nodules_seqs_dirs):\n",
    "        label = int(nodule_seq_dir.split('_')[-2][-1])\n",
    "        current_images_dir = os.path.join(nodule_seq_dir, 'images')\n",
    "        current_masks_dir = os.path.join(nodule_seq_dir, 'masks')\n",
    "\n",
    "        current_images_pathes = [os.path.join(current_images_dir, x) for x in get_files(current_images_dir)]\n",
    "        current_masks_pathes = [os.path.join(current_masks_dir, x) for x in get_files(current_masks_dir)]\n",
    "        \n",
    "        current_images_pathes.sort(key=lambda x: int(x.split('/')[-1].split('.')[0]))\n",
    "        current_masks_pathes.sort(key=lambda x: int(x.split('/')[-1].split('.')[0])) # Masks\n",
    "        \n",
    "        images_pathes.append(\n",
    "            (current_images_pathes, label-2)\n",
    "        )\n",
    "        masks_pathes.append(\n",
    "            (current_masks_pathes, label-2)\n",
    "        )\n",
    "        \n",
    "    images = []\n",
    "    for current_imgs_pathes, label in tqdm(images_pathes):\n",
    "        current_images = []\n",
    "        for image_path in current_imgs_pathes:\n",
    "                image = cv2.imread(image_path)\n",
    "                image = cv2.cvtColor(image, cv2.COLOR_BGR2RGB)\n",
    "                current_images.append(image)\n",
    "        current_images = get_only_n_objects(current_images)\n",
    "        images.append((current_images, label))\n",
    "\n",
    "    return images"
   ]
  },
  {
   "cell_type": "code",
   "execution_count": 10,
   "id": "36b33b84",
   "metadata": {},
   "outputs": [
    {
     "data": {
      "application/vnd.jupyter.widget-view+json": {
       "model_id": "ef1f8e7b3bd946aaab2062c9b79d2167",
       "version_major": 2,
       "version_minor": 0
      },
      "text/plain": [
       "  0%|          | 0/323 [00:00<?, ?it/s]"
      ]
     },
     "metadata": {},
     "output_type": "display_data"
    },
    {
     "data": {
      "application/vnd.jupyter.widget-view+json": {
       "model_id": "a749340b3b9047b3be21e64a36e0a31f",
       "version_major": 2,
       "version_minor": 0
      },
      "text/plain": [
       "  0%|          | 0/323 [00:00<?, ?it/s]"
      ]
     },
     "metadata": {},
     "output_type": "display_data"
    },
    {
     "data": {
      "application/vnd.jupyter.widget-view+json": {
       "model_id": "5697510c5a7249459ed0c27c991ae209",
       "version_major": 2,
       "version_minor": 0
      },
      "text/plain": [
       "  0%|          | 0/112 [00:00<?, ?it/s]"
      ]
     },
     "metadata": {},
     "output_type": "display_data"
    },
    {
     "data": {
      "application/vnd.jupyter.widget-view+json": {
       "model_id": "84a6d1ec3c804e6880bff089f37bc74a",
       "version_major": 2,
       "version_minor": 0
      },
      "text/plain": [
       "  0%|          | 0/112 [00:00<?, ?it/s]"
      ]
     },
     "metadata": {},
     "output_type": "display_data"
    }
   ],
   "source": [
    "train_images = load_images_from_dir(TRAIN_DIR_PATH)\n",
    "val_images = load_images_from_dir(TEST_DIR_PATH)"
   ]
  },
  {
   "cell_type": "markdown",
   "id": "51cee609",
   "metadata": {},
   "source": [
    "### Dataset and DataLoader initialization"
   ]
  },
  {
   "cell_type": "code",
   "execution_count": 11,
   "id": "9d24ed84",
   "metadata": {},
   "outputs": [],
   "source": [
    "train_images_splitted = []\n",
    "val_images_splitted = []\n",
    "\n",
    "for images_seq, label in train_images:\n",
    "    train_images_splitted.extend(\n",
    "        [(image, label) for image in images_seq]\n",
    "    )\n",
    "    \n",
    "for images_seq, label in val_images:\n",
    "    val_images_splitted.extend(\n",
    "        [(image, label) for image in images_seq]\n",
    "    )"
   ]
  },
  {
   "cell_type": "code",
   "execution_count": 12,
   "id": "1e06fd3d",
   "metadata": {},
   "outputs": [
    {
     "data": {
      "text/plain": [
       "(1292, 448)"
      ]
     },
     "execution_count": 12,
     "metadata": {},
     "output_type": "execute_result"
    }
   ],
   "source": [
    "len(train_images_splitted), len(val_images_splitted)"
   ]
  },
  {
   "cell_type": "code",
   "execution_count": 13,
   "id": "f332a9be",
   "metadata": {},
   "outputs": [],
   "source": [
    "class CustomImageDataset(Dataset):\n",
    "    def __init__(self, data_list, transform=None, is_imgaug=True):\n",
    "        self.data_list = data_list\n",
    "        self.transform = transform\n",
    "        self.is_imgaug = is_imgaug\n",
    "    \n",
    "    def __len__(self):\n",
    "        return len(self.data_list)\n",
    "    \n",
    "    def __getitem__(self, idx):\n",
    "        image, label = self.data_list[idx]\n",
    "        \n",
    "        if self.transform:\n",
    "            if self.is_imgaug:\n",
    "                transformed = self.transform(image=image)\n",
    "                image = transformed[\"image\"]\n",
    "                return image, torch.tensor(label, dtype=torch.long)\n",
    "            else:\n",
    "                transformed = self.transform(np.repeat(image[:, :, 0][:, :, np.newaxis], 3, -1))\n",
    "                return transformed[0, :, :].unsqueeze(0), torch.tensor(label, dtype=torch.long)\n",
    "\n",
    "\n",
    "def get_val_transforms():\n",
    "    return A.Compose([\n",
    "        A.Resize(height=256, width=256),\n",
    "        A.Normalize(mean=[0.485, 0.456, 0.406], std=[0.229, 0.224, 0.225]),\n",
    "        ToTensorV2(),\n",
    "    ])\n",
    "\n",
    "def get_train_transforms():\n",
    "    return A.Compose([\n",
    "        # Геометрические преобразования (отражения, повороты)\n",
    "        A.VerticalFlip(p=0.5),\n",
    "        A.HorizontalFlip(p=0.5),\n",
    "        A.Rotate(limit=30, p=0.5),\n",
    "        A.Transpose(p=0.3),  # Транспонирование (поворот на 90° + отражение)\n",
    "        \n",
    "        # Искажения перспективы и формы\n",
    "        A.Perspective(scale=(0.05, 0.1), p=0.3),  # Случайная перспектива\n",
    "        A.ElasticTransform(alpha=1, sigma=20, alpha_affine=10, p=0.3),  # Эластичные деформации\n",
    "        \n",
    "        # Цветовые преобразования\n",
    "        A.RandomBrightnessContrast(brightness_limit=0.2, contrast_limit=0.2, p=0.5),\n",
    "        A.RandomGamma(gamma_limit=(80, 120), p=0.3),  # Гамма-коррекция\n",
    "        \n",
    "        # Размытия и шумы\n",
    "        A.GaussianBlur(blur_limit=(3, 5), p=0.2),  # Размытие по Гауссу\n",
    "        A.GaussNoise(var_limit=(5.0, 20.0), p=0.2),  # Гауссов шум\n",
    "        \n",
    "        # Обрезка и масштабирование\n",
    "        A.Resize(height=256, width=256),  # Фиксированный размер\n",
    "        \n",
    "        # Нормализация и преобразование в тензор\n",
    "        A.Normalize(mean=[0.485, 0.456, 0.406], std=[0.229, 0.224, 0.225]),\n",
    "        ToTensorV2(),\n",
    "    ])\n",
    "\n",
    "train_dataset = CustomImageDataset(\n",
    "    train_images_splitted,\n",
    "    transform=get_train_transforms(),\n",
    ")\n",
    "\n",
    "test_dataset = CustomImageDataset(\n",
    "    train_images_splitted,\n",
    "    transform=get_val_transforms(),\n",
    ")\n",
    "\n",
    "train_loader = DataLoader(train_dataset, shuffle=True, batch_size=32)\n",
    "test_loader = DataLoader(test_dataset, shuffle=True, batch_size=32)"
   ]
  },
  {
   "cell_type": "code",
   "execution_count": 14,
   "id": "f3beb63a",
   "metadata": {},
   "outputs": [],
   "source": [
    "for x, y in train_loader:\n",
    "    break"
   ]
  },
  {
   "cell_type": "markdown",
   "id": "8fd11e67",
   "metadata": {},
   "source": [
    "### Model initialization"
   ]
  },
  {
   "cell_type": "code",
   "execution_count": 15,
   "id": "9cfa50ae",
   "metadata": {},
   "outputs": [],
   "source": [
    "unet_plus_plus = torch.load(\"/kaggle/input/unet_effnetb7_pretrained/other/default/1/Unet-timm-efficientnet-b7_dice-0.950.pt\", weights_only=False)\n",
    "encoder = unet_plus_plus.encoder"
   ]
  },
  {
   "cell_type": "code",
   "execution_count": 16,
   "id": "30e8a632",
   "metadata": {},
   "outputs": [],
   "source": [
    "class ClsHead(nn.Module):\n",
    "    def __init__(\n",
    "        self,\n",
    "        n_classes=4,\n",
    "    ):\n",
    "        super().__init__()\n",
    "        self._encoder = encoder\n",
    "        self._cls_head = nn.Sequential(\n",
    "            nn.Linear(640, 2),\n",
    "            nn.Mish(),\n",
    "            nn.Linear(2, 16),\n",
    "            nn.Mish(),\n",
    "            nn.Linear(16, n_classes)\n",
    "        )\n",
    "        \n",
    "    def forward(self, x):\n",
    "        with torch.no_grad():\n",
    "            x = self._encoder(x)[-1]\n",
    "        x = x.mean(dim=(-2, -1))\n",
    "        x = self._cls_head(x)\n",
    "        return x"
   ]
  },
  {
   "cell_type": "markdown",
   "id": "9a57b5f4",
   "metadata": {},
   "source": [
    "### Training utils"
   ]
  },
  {
   "cell_type": "code",
   "execution_count": 17,
   "id": "2e835b12",
   "metadata": {},
   "outputs": [],
   "source": [
    "import torch\n",
    "import torch.nn as nn\n",
    "import torch.optim as optim\n",
    "from sklearn.metrics import f1_score, precision_score, recall_score, accuracy_score\n",
    "import numpy as np\n",
    "\n",
    "device = 'cuda'\n",
    "\n",
    "num_classes = 4\n",
    "\n",
    "def calculate_class_metrics(targets, preds, num_classes=num_classes):\n",
    "    \"\"\"Вычисляет метрики для каждого класса отдельно\"\"\"\n",
    "    class_metrics = {\n",
    "        'accuracy': [],\n",
    "        'f1': [],\n",
    "        'precision': [],\n",
    "        'recall': []\n",
    "    }\n",
    "\n",
    "    targets = np.array(targets)\n",
    "    preds = np.array(preds)\n",
    "    \n",
    "    for class_id in range(num_classes):\n",
    "        # Бинаризируем для текущего класса\n",
    "        bin_targets = (targets == class_id).astype(int)\n",
    "        bin_preds = (preds == class_id).astype(int)\n",
    "        \n",
    "        # Вычисляем метрики\n",
    "        class_metrics['accuracy'].append(accuracy_score(bin_targets, bin_preds))\n",
    "        class_metrics['f1'].append(f1_score(bin_targets, bin_preds, zero_division=0))\n",
    "        class_metrics['precision'].append(precision_score(bin_targets, bin_preds, zero_division=0))\n",
    "        class_metrics['recall'].append(recall_score(bin_targets, bin_preds, zero_division=0))\n",
    "    \n",
    "    return class_metrics\n",
    "\n",
    "def train_epoch(model, train_loader, criterion, optimizer, device):\n",
    "    model.train()\n",
    "    running_loss = 0.0\n",
    "    all_preds = []\n",
    "    all_targets = []\n",
    "    \n",
    "    for inputs, labels in tqdm(train_loader):\n",
    "        inputs = inputs.to(device)\n",
    "        labels = labels.to(device)\n",
    "        \n",
    "        optimizer.zero_grad()\n",
    "        \n",
    "        outputs = model(inputs)\n",
    "        loss = criterion(outputs, labels)\n",
    "        loss.backward()\n",
    "        optimizer.step()\n",
    "        \n",
    "        running_loss += loss.item() * inputs.size(0)\n",
    "        \n",
    "        _, preds = torch.max(outputs, 1)\n",
    "        all_preds.extend(preds.cpu().numpy())\n",
    "        all_targets.extend(labels.cpu().numpy())\n",
    "    \n",
    "    epoch_loss = running_loss / len(train_loader.dataset)\n",
    "\n",
    "    # Calculate class metrics\n",
    "    class_metrics = calculate_class_metrics(all_targets, all_preds, num_classes)\n",
    "    \n",
    "    # Calculate general metrics\n",
    "    epoch_f1 = f1_score(all_targets, all_preds, average='macro')\n",
    "    epoch_precision = precision_score(all_targets, all_preds, average='macro')\n",
    "    epoch_recall = recall_score(all_targets, all_preds, average='macro')\n",
    "    epoch_accuracy = accuracy_score(all_targets, all_preds)\n",
    "    \n",
    "    return epoch_loss, epoch_accuracy, epoch_f1, epoch_precision, epoch_recall, class_metrics\n",
    "\n",
    "def validate_epoch(model, val_loader, criterion, device):\n",
    "    model.eval()\n",
    "    running_loss = 0.0\n",
    "    all_preds = []\n",
    "    all_targets = []\n",
    "    \n",
    "    with torch.no_grad():\n",
    "        for inputs, labels in tqdm(val_loader):\n",
    "            inputs = inputs.to(device)\n",
    "            labels = labels.to(device)\n",
    "            \n",
    "            outputs = model(inputs)\n",
    "            loss = criterion(outputs, labels)\n",
    "            \n",
    "            running_loss += loss.item() * inputs.size(0)\n",
    "            \n",
    "            _, preds = torch.max(outputs, 1)\n",
    "            all_preds.extend(preds.cpu().numpy())\n",
    "            all_targets.extend(labels.cpu().numpy())\n",
    "    \n",
    "    epoch_loss = running_loss / len(val_loader.dataset)\n",
    "\n",
    "    # Calculate class metrics\n",
    "    class_metrics = calculate_class_metrics(all_targets, all_preds, num_classes)\n",
    "    \n",
    "    # Calculate general metrics\n",
    "    epoch_f1 = f1_score(all_targets, all_preds, average='macro')\n",
    "    epoch_precision = precision_score(all_targets, all_preds, average='macro')\n",
    "    epoch_recall = recall_score(all_targets, all_preds, average='macro')\n",
    "    epoch_accuracy = accuracy_score(all_targets, all_preds)\n",
    "    \n",
    "    return epoch_loss, epoch_accuracy, epoch_f1, epoch_precision, epoch_recall, class_metrics\n",
    "\n",
    "def train_model(model, train_loader, val_loader, num_epochs, device='cuda', num_classes=4, balance=True):\n",
    "\n",
    "    from sklearn.utils.class_weight import compute_class_weight\n",
    "    labels = []\n",
    "    for _, l in val_loader.dataset:\n",
    "        labels.append(l.item())\n",
    "\n",
    "    # cnt = Counter(labels)\n",
    "    # weights = np.array([1, cnt[0] / cnt[1]])\n",
    "    \n",
    "    if balance:\n",
    "        weights = compute_class_weight('balanced', classes=np.unique(labels), y=labels)\n",
    "    else:\n",
    "        weights = np.array([1] * num_classes)\n",
    "\n",
    "    \n",
    "    \n",
    "    criterion = nn.CrossEntropyLoss(weight=torch.tensor(weights, dtype=torch.float32).to(device))\n",
    "    optimizer = optim.AdamW(model.parameters())\n",
    "    \n",
    "    best_val_f1 = 0.0\n",
    "    history = {\n",
    "        'train_loss': [],\n",
    "        'train_accuracy': [],\n",
    "        'train_f1': [],\n",
    "        'train_precision': [],\n",
    "        'train_recall': [],\n",
    "        'val_loss': [],\n",
    "        'val_accuracy': [],\n",
    "        'val_f1': [],\n",
    "        'val_precision': [],\n",
    "        'val_recall': [],\n",
    "        'train_class_metrics': [],\n",
    "        'val_class_metrics': []\n",
    "    }\n",
    "    \n",
    "    for epoch in range(num_epochs):\n",
    "        # Training\n",
    "        train_loss, train_acc, train_f1, train_prec, train_rec, train_class_metrics = train_epoch(\n",
    "            model, train_loader, criterion, optimizer, device\n",
    "        )\n",
    "        \n",
    "        # Validation\n",
    "        val_loss, val_acc, val_f1, val_prec, val_rec, val_class_metrics = validate_epoch(\n",
    "            model, val_loader, criterion, device\n",
    "        )\n",
    "        \n",
    "        # Save metrics to history\n",
    "        history['train_loss'].append(train_loss)\n",
    "        history['train_accuracy'].append(train_acc)\n",
    "        history['train_f1'].append(train_f1)\n",
    "        history['train_precision'].append(train_prec)\n",
    "        history['train_recall'].append(train_rec)\n",
    "        history['train_class_metrics'].append(train_class_metrics)\n",
    "        \n",
    "        history['val_loss'].append(val_loss)\n",
    "        history['val_accuracy'].append(val_acc)\n",
    "        history['val_f1'].append(val_f1)\n",
    "        history['val_precision'].append(val_prec)\n",
    "        history['val_recall'].append(val_rec)\n",
    "        history['val_class_metrics'].append(val_class_metrics)\n",
    "        \n",
    "        # Clear previous output and plot new graphs\n",
    "        clear_output(wait=True)\n",
    "        plt.figure(figsize=(20, 15))\n",
    "        \n",
    "        # Plot Loss\n",
    "        plt.subplot(3, 4, 1)\n",
    "        plt.plot(history['train_loss'], label='Train Loss')\n",
    "        plt.plot(history['val_loss'], label='Val Loss')\n",
    "        plt.title('Loss')\n",
    "        plt.legend()\n",
    "        \n",
    "        # Plot Accuracy\n",
    "        plt.subplot(3, 4, 2)\n",
    "        plt.plot(history['train_accuracy'], label='Train Accuracy')\n",
    "        plt.plot(history['val_accuracy'], label='Val Accuracy')\n",
    "        plt.title('Accuracy')\n",
    "        plt.legend()\n",
    "        \n",
    "        # Plot F1 Score\n",
    "        plt.subplot(3, 4, 3)\n",
    "        plt.plot(history['train_f1'], label='Train F1')\n",
    "        plt.plot(history['val_f1'], label='Val F1')\n",
    "        plt.title('Macro F1 Score')\n",
    "        plt.legend()\n",
    "        \n",
    "        # Plot Precision\n",
    "        plt.subplot(3, 4, 4)\n",
    "        plt.plot(history['train_precision'], label='Train Precision')\n",
    "        plt.plot(history['val_precision'], label='Val Precision')\n",
    "        plt.title('Macro Precision')\n",
    "        plt.legend()\n",
    "        \n",
    "        # Plot Class-wise F1 Scores\n",
    "        for class_id in range(num_classes):\n",
    "            plt.subplot(3, 4, 5 + class_id)\n",
    "            train_class_f1 = [x['f1'][class_id] for x in history['train_class_metrics']]\n",
    "            val_class_f1 = [x['f1'][class_id] for x in history['val_class_metrics']]\n",
    "            plt.plot(train_class_f1, label=f'Train F1 (Class {class_id})')\n",
    "            plt.plot(val_class_f1, label=f'Val F1 (Class {class_id})')\n",
    "            plt.title(f'Class {class_id} F1 Score')\n",
    "            plt.legend()\n",
    "        \n",
    "        # Plot Class-wise Accuracy\n",
    "        for class_id in range(num_classes):\n",
    "            plt.subplot(3, 4, 9 + class_id)\n",
    "            train_class_acc = [x['accuracy'][class_id] for x in history['train_class_metrics']]\n",
    "            val_class_acc = [x['accuracy'][class_id] for x in history['val_class_metrics']]\n",
    "            plt.plot(train_class_acc, label=f'Train Acc (Class {class_id})')\n",
    "            plt.plot(val_class_acc, label=f'Val Acc (Class {class_id})')\n",
    "            plt.title(f'Class {class_id} Accuracy')\n",
    "            plt.legend()\n",
    "        \n",
    "        # Print metrics for current epoch\n",
    "        plt.tight_layout()\n",
    "        plt.show()\n",
    "        \n",
    "        print(f'Epoch {epoch+1}/{num_epochs}')\n",
    "        print(f'Train Loss: {train_loss:.4f} | Val Loss: {val_loss:.4f}')\n",
    "        print(f'Train Acc: {train_acc:.4f} | Val Acc: {val_acc:.4f}')\n",
    "        print(f'Train F1: {train_f1:.4f} | Val F1: {val_f1:.4f}')\n",
    "        \n",
    "        for class_id in range(num_classes):\n",
    "            print(f'Class {class_id} - Val F1: {val_class_metrics[\"f1\"][class_id]:.4f}, '\n",
    "                  f'Val Acc: {val_class_metrics[\"accuracy\"][class_id]:.4f}')\n",
    "        \n",
    "        # Save best model\n",
    "        if val_f1 > best_val_f1:\n",
    "            best_val_f1 = val_f1\n",
    "            torch.save(model.state_dict(), 'best_model.pth')\n",
    "            print(\"Saved new best model!\")\n",
    "    \n",
    "    print(f'Training complete. Best validation F1: {best_val_f1:.4f}')\n",
    "    return history"
   ]
  },
  {
   "cell_type": "markdown",
   "id": "897b5fcc",
   "metadata": {},
   "source": [
    "### Model Training"
   ]
  },
  {
   "cell_type": "code",
   "execution_count": 18,
   "id": "f82bc10e",
   "metadata": {},
   "outputs": [],
   "source": [
    "model = ClsHead().to('cuda')"
   ]
  },
  {
   "cell_type": "code",
   "execution_count": null,
   "id": "87db7874",
   "metadata": {},
   "outputs": [
    {
     "data": {
      "application/vnd.jupyter.widget-view+json": {
       "model_id": "421ea8fb53064ac09e22c1d40a0894ba",
       "version_major": 2,
       "version_minor": 0
      },
      "text/plain": [
       "  0%|          | 0/41 [00:00<?, ?it/s]"
      ]
     },
     "metadata": {},
     "output_type": "display_data"
    },
    {
     "data": {
      "application/vnd.jupyter.widget-view+json": {
       "model_id": "0e930f3449b340a3b9e89d94acefffb4",
       "version_major": 2,
       "version_minor": 0
      },
      "text/plain": [
       "  0%|          | 0/41 [00:00<?, ?it/s]"
      ]
     },
     "metadata": {},
     "output_type": "display_data"
    }
   ],
   "source": [
    "train_model(model, train_loader, test_loader, num_epochs=50)"
   ]
  },
  {
   "cell_type": "code",
   "execution_count": null,
   "id": "a4bc7813",
   "metadata": {},
   "outputs": [
    {
     "data": {
      "text/plain": [
       "<module 'numpy' from '/usr/local/lib/python3.11/dist-packages/numpy/__init__.py'>"
      ]
     },
     "execution_count": 38,
     "metadata": {},
     "output_type": "execute_result"
    }
   ],
   "source": []
  },
  {
   "cell_type": "markdown",
   "id": "471d7dd7",
   "metadata": {},
   "source": [
    "### Model Scoring"
   ]
  },
  {
   "cell_type": "code",
   "execution_count": 33,
   "id": "edd83a61",
   "metadata": {},
   "outputs": [],
   "source": [
    "predictions = defaultdict(list)"
   ]
  },
  {
   "cell_type": "code",
   "execution_count": null,
   "id": "e7627ea1",
   "metadata": {},
   "outputs": [
    {
     "data": {
      "application/vnd.jupyter.widget-view+json": {
       "model_id": "fbade6da5bec43cdbd11ae08ffe0cf6d",
       "version_major": 2,
       "version_minor": 0
      },
      "text/plain": [
       "  0%|          | 0/1292 [00:00<?, ?it/s]"
      ]
     },
     "metadata": {},
     "output_type": "display_data"
    }
   ],
   "source": [
    "model.load_state_dict(torch.load(\"/kaggle/working/best_model.pth\"))\n",
    "model.eval()\n",
    "for i in tqdm(range(len(test_dataset))):\n",
    "    features, label = test_dataset[i]\n",
    "    out = model(features.to('cuda').unsqueeze(0))\n",
    "    \n",
    "    true_label = label.item()\n",
    "    \n",
    "    predictions[true_label].append(out.argmax(dim=1).item())"
   ]
  },
  {
   "cell_type": "code",
   "execution_count": 35,
   "id": "d7a8983b",
   "metadata": {},
   "outputs": [
    {
     "data": {
      "image/png": "[encoded data removed]",
      "text/plain": [
       "<Figure size 800x600 with 2 Axes>"
      ]
     },
     "metadata": {},
     "output_type": "display_data"
    }
   ],
   "source": [
    "plot_confusion_matrix(predictions, [0, 1, 2, 3])"
   ]
  },
  {
   "cell_type": "code",
   "execution_count": null,
   "id": "ffd95549",
   "metadata": {},
   "outputs": [],
   "source": []
  }
 ],
 "metadata": {
  "kernelspec": {
   "display_name": "Python 3 (ipykernel)",
   "language": "python",
   "name": "python3"
  },
  "language_info": {
   "codemirror_mode": {
    "name": "ipython",
    "version": 3
   },
   "file_extension": ".py",
   "mimetype": "text/x-python",
   "name": "python",
   "nbconvert_exporter": "python",
   "pygments_lexer": "ipython3",
   "version": "3.11.11"
  }
 },
 "nbformat": 4,
 "nbformat_minor": 5
}
