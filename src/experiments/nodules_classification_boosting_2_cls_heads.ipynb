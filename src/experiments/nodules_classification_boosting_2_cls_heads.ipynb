{
 "cells": [
  {
   "cell_type": "code",
   "execution_count": 2,
   "id": "591625f2",
   "metadata": {},
   "outputs": [],
   "source": [
    "# !pip install segmentation-models-pytorch==0.3.4"
   ]
  },
  {
   "cell_type": "code",
   "execution_count": 3,
   "id": "e3457681",
   "metadata": {},
   "outputs": [
    {
     "name": "stderr",
     "output_type": "stream",
     "text": [
      "/usr/local/lib/python3.11/dist-packages/albumentations/__init__.py:28: UserWarning: A new version of Albumentations is available: '2.0.8' (you have '2.0.5'). Upgrade using: pip install -U albumentations. To disable automatic update checks, set the environment variable NO_ALBUMENTATIONS_UPDATE to 1.\n",
      "  check_for_updates()\n"
     ]
    }
   ],
   "source": [
    "import os\n",
    "import cv2\n",
    "import numpy as np\n",
    "import pandas as pd\n",
    "import random\n",
    "import torch\n",
    "import seaborn as sns\n",
    "import torch.nn as nn\n",
    "from copy import copy\n",
    "import torch.nn.functional as F\n",
    "from tqdm.notebook import tqdm\n",
    "from collections import defaultdict\n",
    "import matplotlib.pyplot as plt\n",
    "import albumentations as A\n",
    "from IPython.display import clear_output\n",
    "from torch.utils.data import DataLoader, Dataset\n",
    "import segmentation_models_pytorch as smp\n",
    "from albumentations.pytorch import ToTensorV2\n",
    "import torchvision.transforms as transforms \n",
    "from sklearn.metrics import accuracy_score, f1_score\n",
    "from scipy.special import softmax\n",
    "from catboost import CatBoostClassifier, Pool\n",
    "\n",
    "import warnings\n",
    "warnings.filterwarnings(\"ignore\")"
   ]
  },
  {
   "cell_type": "code",
   "execution_count": 4,
   "id": "07cad8b2",
   "metadata": {},
   "outputs": [],
   "source": [
    "TEST_DIR_PATH = \"/kaggle/input/rois-changed-areas/0.1_changed_roi_areas_10percent/test\"\n",
    "TRAIN_DIR_PATH = \"/kaggle/input/rois-changed-areas/0.1_changed_roi_areas_10percent/train\""
   ]
  },
  {
   "cell_type": "markdown",
   "id": "8f1f6345",
   "metadata": {},
   "source": [
    "### Utils"
   ]
  },
  {
   "cell_type": "code",
   "execution_count": 5,
   "id": "b81a6ca2",
   "metadata": {},
   "outputs": [],
   "source": [
    "import numpy as np\n",
    "import matplotlib.pyplot as plt\n",
    "import seaborn as sns\n",
    "from sklearn.metrics import confusion_matrix\n",
    "\n",
    "def plot_confusion_matrix(pred_dict, classes, normalize=True, title='Confusion matrix', cmap=plt.cm.Blues):\n",
    "    \"\"\"\n",
    "    Визуализация матрицы ошибок из словаря предсказаний.\n",
    "    \n",
    "    Args:\n",
    "        pred_dict (dict): Словарь {true_class: [predicted_classes]}\n",
    "        classes (list): Список всех классов в правильном порядке\n",
    "        normalize (bool): Нормализовать ли значения по строкам\n",
    "        title (str): Заголовок графика\n",
    "        cmap: Цветовая схема\n",
    "    \"\"\"\n",
    "    # Инициализация матрицы\n",
    "    n_classes = len(classes)\n",
    "    conf_mat = np.zeros((n_classes, n_classes), dtype=np.int32)\n",
    "    \n",
    "    # Заполнение матрицы из словаря\n",
    "    for true_class, pred_classes in pred_dict.items():\n",
    "        true_idx = classes.index(true_class)\n",
    "        for pred_class in pred_classes:\n",
    "            pred_idx = classes.index(pred_class)\n",
    "            conf_mat[true_idx][pred_idx] += 1\n",
    "    \n",
    "    # Нормализация (если нужно)\n",
    "    if normalize:\n",
    "        conf_mat = conf_mat.astype('float') / conf_mat.sum(axis=1)[:, np.newaxis]\n",
    "        fmt = '.2f'\n",
    "    else:\n",
    "        fmt = 'd'\n",
    "    \n",
    "    # Визуализация\n",
    "    plt.figure(figsize=(8, 6))\n",
    "    sns.heatmap(conf_mat, annot=True, fmt=fmt, cmap=cmap,\n",
    "                xticklabels=classes, yticklabels=classes)\n",
    "    \n",
    "    plt.title(title)\n",
    "    plt.ylabel('Истинный класс')\n",
    "    plt.xlabel('Предсказанный класс')\n",
    "    plt.xticks(rotation=45)\n",
    "    plt.yticks(rotation=0)\n",
    "    plt.tight_layout()\n",
    "    plt.show()"
   ]
  },
  {
   "cell_type": "code",
   "execution_count": 6,
   "id": "12514e81",
   "metadata": {},
   "outputs": [],
   "source": [
    "def get_folders(directory):\n",
    "    folders = []\n",
    "    for item in os.listdir(directory):\n",
    "        item_path = os.path.join(directory, item)\n",
    "        if os.path.isdir(item_path):\n",
    "            folders.append(item)\n",
    "    return folders\n",
    "\n",
    "\n",
    "def get_files(directory):\n",
    "    files = []\n",
    "    for item in os.listdir(directory):\n",
    "        item_path = os.path.join(directory, item)\n",
    "        if os.path.isfile(item_path):\n",
    "            files.append(item)\n",
    "    return files"
   ]
  },
  {
   "cell_type": "code",
   "execution_count": 7,
   "id": "aa55ef34",
   "metadata": {},
   "outputs": [],
   "source": [
    "def get_only_n_objects(x, n=4):\n",
    "    new_x = []\n",
    "    if len(x) >= n:\n",
    "        step = len(x) // n\n",
    "        for i in range(0, len(x), step):\n",
    "            new_x.append(x[i])\n",
    "            if len(new_x) == n:\n",
    "                return new_x\n",
    "    else:\n",
    "        new_x = copy(x)\n",
    "        while len(new_x) != n:\n",
    "            new_x.append(\n",
    "                random.choice(x)\n",
    "            )\n",
    "    return new_x"
   ]
  },
  {
   "cell_type": "code",
   "execution_count": 8,
   "id": "20d56b8d",
   "metadata": {},
   "outputs": [],
   "source": [
    "def load_images_from_dir(path_dir: str):\n",
    "\n",
    "    class_folders_names = get_folders(path_dir)\n",
    "    class_folders_pathes = [os.path.join(path_dir, folder) for folder in class_folders_names]\n",
    "    nodules_seqs_dirs = []\n",
    "    for class_folder_path in class_folders_pathes:\n",
    "        nodules_seqs = get_folders(class_folder_path)\n",
    "        nodules_seqs_dirs.extend([os.path.join(class_folder_path, seq) for seq in nodules_seqs])\n",
    "        \n",
    "    images_pathes = [] \n",
    "    masks_pathes = []    \n",
    "\n",
    "    for nodule_seq_dir in tqdm(nodules_seqs_dirs):\n",
    "        label = int(nodule_seq_dir.split('_')[-2][-1])\n",
    "        current_images_dir = os.path.join(nodule_seq_dir, 'images')\n",
    "        current_masks_dir = os.path.join(nodule_seq_dir, 'masks')\n",
    "\n",
    "        current_images_pathes = [os.path.join(current_images_dir, x) for x in get_files(current_images_dir)]\n",
    "        current_masks_pathes = [os.path.join(current_masks_dir, x) for x in get_files(current_masks_dir)]\n",
    "        \n",
    "        current_images_pathes.sort(key=lambda x: int(x.split('/')[-1].split('.')[0]))\n",
    "        current_masks_pathes.sort(key=lambda x: int(x.split('/')[-1].split('.')[0])) # Masks\n",
    "        \n",
    "        images_pathes.append(\n",
    "            (current_images_pathes, label-2)\n",
    "        )\n",
    "        masks_pathes.append(\n",
    "            (current_masks_pathes, label-2)\n",
    "        )\n",
    "        \n",
    "    images_pathes_processed = []\n",
    "    for curr_imgs_pathes, label in images_pathes:\n",
    "        images_pathes_processed.append(\n",
    "            (get_only_n_objects(curr_imgs_pathes), label)\n",
    "             )\n",
    "    return images_pathes_processed"
   ]
  },
  {
   "cell_type": "code",
   "execution_count": 9,
   "id": "f83f3e45",
   "metadata": {},
   "outputs": [
    {
     "data": {
      "application/vnd.jupyter.widget-view+json": {
       "model_id": "ac69ddb119b349f2900d82f6b2813ecc",
       "version_major": 2,
       "version_minor": 0
      },
      "text/plain": [
       "  0%|          | 0/323 [00:00<?, ?it/s]"
      ]
     },
     "metadata": {},
     "output_type": "display_data"
    },
    {
     "data": {
      "application/vnd.jupyter.widget-view+json": {
       "model_id": "afb886fc137349fabe96f29563f01e22",
       "version_major": 2,
       "version_minor": 0
      },
      "text/plain": [
       "  0%|          | 0/112 [00:00<?, ?it/s]"
      ]
     },
     "metadata": {},
     "output_type": "display_data"
    }
   ],
   "source": [
    "train_images_pathes = load_images_from_dir(TRAIN_DIR_PATH)\n",
    "val_images_pathes = load_images_from_dir(TEST_DIR_PATH)"
   ]
  },
  {
   "cell_type": "markdown",
   "id": "426b670e",
   "metadata": {},
   "source": [
    "### DataLoading DeepLab"
   ]
  },
  {
   "cell_type": "code",
   "execution_count": 11,
   "id": "89db3348",
   "metadata": {},
   "outputs": [],
   "source": [
    "def load_images_from_dir_for_deeplab(images_pathes):\n",
    "    images = []\n",
    "    for current_imgs_pathes, label in tqdm(images_pathes):\n",
    "        current_images = []\n",
    "        for image_path in current_imgs_pathes:\n",
    "                image = cv2.imread(image_path)\n",
    "                image = cv2.cvtColor(image, cv2.IMREAD_GRAYSCALE)\n",
    "                current_images.append(image)\n",
    "        assert len(current_images) == 4\n",
    "        images.append((current_images, label))\n",
    "\n",
    "    return images"
   ]
  },
  {
   "cell_type": "code",
   "execution_count": 12,
   "id": "7adeb92e",
   "metadata": {},
   "outputs": [
    {
     "data": {
      "application/vnd.jupyter.widget-view+json": {
       "model_id": "bb514166a3fd45b28c633f524a45757b",
       "version_major": 2,
       "version_minor": 0
      },
      "text/plain": [
       "  0%|          | 0/323 [00:00<?, ?it/s]"
      ]
     },
     "metadata": {},
     "output_type": "display_data"
    },
    {
     "data": {
      "application/vnd.jupyter.widget-view+json": {
       "model_id": "9bb1ebfd03cf4204b4250e857610035e",
       "version_major": 2,
       "version_minor": 0
      },
      "text/plain": [
       "  0%|          | 0/112 [00:00<?, ?it/s]"
      ]
     },
     "metadata": {},
     "output_type": "display_data"
    }
   ],
   "source": [
    "train_images_deeplab = load_images_from_dir_for_deeplab(train_images_pathes)\n",
    "val_images_deeplab = load_images_from_dir_for_deeplab(val_images_pathes)"
   ]
  },
  {
   "cell_type": "markdown",
   "id": "9a493a3e",
   "metadata": {},
   "source": [
    "### Data Loading Unet"
   ]
  },
  {
   "cell_type": "code",
   "execution_count": 13,
   "id": "f598083a",
   "metadata": {},
   "outputs": [],
   "source": [
    "def load_images_from_dir_for_unet(images_pathes):\n",
    "        \n",
    "    images = []\n",
    "    for current_imgs_pathes, label in tqdm(images_pathes):\n",
    "        current_images = []\n",
    "        for image_path in current_imgs_pathes:\n",
    "                image = cv2.imread(image_path)\n",
    "                image = cv2.cvtColor(image, cv2.COLOR_BGR2RGB)\n",
    "                current_images.append(image)\n",
    "        assert len(current_images) == 4\n",
    "        images.append((current_images, label))\n",
    "\n",
    "    return images"
   ]
  },
  {
   "cell_type": "code",
   "execution_count": 14,
   "id": "ec9e329e",
   "metadata": {},
   "outputs": [
    {
     "data": {
      "application/vnd.jupyter.widget-view+json": {
       "model_id": "1b862aec519b415e9ab561f5c74a2aa3",
       "version_major": 2,
       "version_minor": 0
      },
      "text/plain": [
       "  0%|          | 0/323 [00:00<?, ?it/s]"
      ]
     },
     "metadata": {},
     "output_type": "display_data"
    },
    {
     "data": {
      "application/vnd.jupyter.widget-view+json": {
       "model_id": "e6adff7148714abf81edee8f2d0d5682",
       "version_major": 2,
       "version_minor": 0
      },
      "text/plain": [
       "  0%|          | 0/112 [00:00<?, ?it/s]"
      ]
     },
     "metadata": {},
     "output_type": "display_data"
    }
   ],
   "source": [
    "train_images_unet = load_images_from_dir_for_unet(train_images_pathes)\n",
    "val_images_unet = load_images_from_dir_for_unet(val_images_pathes)"
   ]
  },
  {
   "cell_type": "markdown",
   "id": "fe859f83",
   "metadata": {},
   "source": [
    "### DeepLab Dataset"
   ]
  },
  {
   "cell_type": "code",
   "execution_count": 15,
   "id": "0ca90995",
   "metadata": {},
   "outputs": [],
   "source": [
    "train_images_deeplab_splitted = []\n",
    "val_images_deeplab_splitted = []\n",
    "\n",
    "for images_seq, label in train_images_deeplab:\n",
    "    train_images_deeplab_splitted.extend(\n",
    "        [(image, label) for image in images_seq]\n",
    "    )\n",
    "    \n",
    "for images_seq, label in val_images_deeplab:\n",
    "    val_images_deeplab_splitted.extend(\n",
    "        [(image, label) for image in images_seq]\n",
    "    )"
   ]
  },
  {
   "cell_type": "code",
   "execution_count": 16,
   "id": "113ad0eb",
   "metadata": {},
   "outputs": [
    {
     "data": {
      "text/plain": [
       "(1292, 448)"
      ]
     },
     "execution_count": 16,
     "metadata": {},
     "output_type": "execute_result"
    }
   ],
   "source": [
    "len(train_images_deeplab_splitted), len(val_images_deeplab_splitted)"
   ]
  },
  {
   "cell_type": "code",
   "execution_count": null,
   "id": "92e40e32",
   "metadata": {},
   "outputs": [],
   "source": [
    "class CustomImageDataset(Dataset):\n",
    "    def __init__(self, data_list, transform=None, is_imgaug=True):\n",
    "        self.data_list = data_list\n",
    "        self.transform = transform\n",
    "        self.is_imgaug = is_imgaug\n",
    "    \n",
    "    def __len__(self):\n",
    "        return len(self.data_list)\n",
    "    \n",
    "    def __getitem__(self, idx):\n",
    "        image, label = self.data_list[idx]\n",
    "        \n",
    "        if self.transform:\n",
    "            if self.is_imgaug:\n",
    "                transformed = self.transform(image=image)\n",
    "                image = transformed[\"image\"]\n",
    "                return image[0, :, :].unsqueeze(0), torch.tensor(label, dtype=torch.long)\n",
    "            else:\n",
    "                transformed = self.transform(np.repeat(image[:, :, 0][:, :, np.newaxis], 3, -1))\n",
    "                return transformed[0, :, :].unsqueeze(0), torch.tensor(label, dtype=torch.long)\n",
    "\n",
    "\n",
    "def get_val_transforms():\n",
    "    return A.Compose([\n",
    "        A.Resize(height=512, width=512),\n",
    "        A.Normalize(mean=[0.485, 0.456, 0.406], std=[0.229, 0.224, 0.225]),\n",
    "        ToTensorV2(),\n",
    "    ])\n",
    "\n",
    "def get_train_transforms():\n",
    "    return A.Compose([\n",
    "        # Геометрические преобразования (отражения, повороты)\n",
    "        A.VerticalFlip(p=0.5),\n",
    "        A.HorizontalFlip(p=0.5),\n",
    "        A.Rotate(limit=30, p=0.5),\n",
    "        A.Transpose(p=0.3),  # Транспонирование (поворот на 90° + отражение)\n",
    "        \n",
    "        # Искажения перспективы и формы\n",
    "        A.Perspective(scale=(0.05, 0.1), p=0.3),  # Случайная перспектива\n",
    "        A.ElasticTransform(alpha=1, sigma=20, alpha_affine=10, p=0.3),  # Эластичные деформации\n",
    "        \n",
    "        # Цветовые преобразования\n",
    "        A.RandomBrightnessContrast(brightness_limit=0.2, contrast_limit=0.2, p=0.5),\n",
    "        A.RandomGamma(gamma_limit=(80, 120), p=0.3),  # Гамма-коррекция\n",
    "        \n",
    "        # Размытия и шумы\n",
    "        A.GaussianBlur(blur_limit=(3, 5), p=0.2),  # Размытие по Гауссу\n",
    "        A.GaussNoise(var_limit=(5.0, 20.0), p=0.2),  # Гауссов шум\n",
    "        \n",
    "        # Обрезка и масштабирование\n",
    "        A.Resize(height=512, width=512),  # Фиксированный размер\n",
    "        \n",
    "        # Нормализация и преобразование в тензор\n",
    "        A.Normalize(mean=[0.485, 0.456, 0.406], std=[0.229, 0.224, 0.225]),\n",
    "        ToTensorV2(),\n",
    "    ])\n",
    "\n",
    "train_dataset_deeplab = CustomImageDataset(\n",
    "    train_images_deeplab_splitted,\n",
    "    transform=get_train_transforms(),\n",
    ")\n",
    "\n",
    "test_dataset_deeplab = CustomImageDataset(\n",
    "    val_images_deeplab_splitted,\n",
    "    transform=get_val_transforms(),\n",
    ")\n",
    "\n",
    "train_loader = DataLoader(train_dataset_deeplab, shuffle=True, batch_size=32)\n",
    "test_loader = DataLoader(test_dataset, shuffle=True, batch_size=32)"
   ]
  },
  {
   "cell_type": "code",
   "execution_count": 27,
   "id": "3a6105c5",
   "metadata": {},
   "outputs": [],
   "source": [
    "for x, y in train_loader_deeplab:\n",
    "    break"
   ]
  },
  {
   "cell_type": "code",
   "execution_count": 28,
   "id": "034666c2",
   "metadata": {},
   "outputs": [
    {
     "data": {
      "text/plain": [
       "torch.Size([32, 1, 512, 512])"
      ]
     },
     "execution_count": 28,
     "metadata": {},
     "output_type": "execute_result"
    }
   ],
   "source": [
    "x.shape"
   ]
  },
  {
   "cell_type": "markdown",
   "id": "1d32dfc4",
   "metadata": {},
   "source": [
    "### Unet Dataset"
   ]
  },
  {
   "cell_type": "code",
   "execution_count": 22,
   "id": "b876d86d",
   "metadata": {},
   "outputs": [],
   "source": [
    "train_images_unet_splitted = []\n",
    "val_images_unet_splitted = []\n",
    "\n",
    "for images_seq, label in train_images_unet:\n",
    "    train_images_unet_splitted.extend(\n",
    "        [(image, label) for image in images_seq]\n",
    "    )\n",
    "    \n",
    "for images_seq, label in val_images_unet:\n",
    "    val_images_unet_splitted.extend(\n",
    "        [(image, label) for image in images_seq]\n",
    "    )"
   ]
  },
  {
   "cell_type": "code",
   "execution_count": 23,
   "id": "4dbe9860",
   "metadata": {},
   "outputs": [
    {
     "data": {
      "text/plain": [
       "(1292, 448)"
      ]
     },
     "execution_count": 23,
     "metadata": {},
     "output_type": "execute_result"
    }
   ],
   "source": [
    "len(train_images_unet_splitted), len(val_images_unet_splitted)"
   ]
  },
  {
   "cell_type": "code",
   "execution_count": 24,
   "id": "812d3141",
   "metadata": {},
   "outputs": [],
   "source": [
    "class CustomImageDataset(Dataset):\n",
    "    def __init__(self, data_list, transform=None, is_imgaug=True):\n",
    "        self.data_list = data_list\n",
    "        self.transform = transform\n",
    "        self.is_imgaug = is_imgaug\n",
    "    \n",
    "    def __len__(self):\n",
    "        return len(self.data_list)\n",
    "    \n",
    "    def __getitem__(self, idx):\n",
    "        image, label = self.data_list[idx]\n",
    "        \n",
    "        if self.transform:\n",
    "            if self.is_imgaug:\n",
    "                transformed = self.transform(image=image)\n",
    "                image = transformed[\"image\"]\n",
    "                return image, torch.tensor(label, dtype=torch.long)\n",
    "            else:\n",
    "                transformed = self.transform(np.repeat(image[:, :, 0][:, :, np.newaxis], 3, -1))\n",
    "                return transformed[0, :, :].unsqueeze(0), torch.tensor(label, dtype=torch.long)\n",
    "\n",
    "\n",
    "def get_val_transforms():\n",
    "    return A.Compose([\n",
    "        A.Resize(height=256, width=256),\n",
    "        A.Normalize(mean=[0.485, 0.456, 0.406], std=[0.229, 0.224, 0.225]),\n",
    "        ToTensorV2(),\n",
    "    ])\n",
    "\n",
    "def get_train_transforms():\n",
    "    return A.Compose([\n",
    "        # Геометрические преобразования (отражения, повороты)\n",
    "        A.VerticalFlip(p=0.5),\n",
    "        A.HorizontalFlip(p=0.5),\n",
    "        A.Rotate(limit=30, p=0.5),\n",
    "        A.Transpose(p=0.3),  # Транспонирование (поворот на 90° + отражение)\n",
    "        \n",
    "        # Искажения перспективы и формы\n",
    "        A.Perspective(scale=(0.05, 0.1), p=0.3),  # Случайная перспектива\n",
    "        A.ElasticTransform(alpha=1, sigma=20, alpha_affine=10, p=0.3),  # Эластичные деформации\n",
    "        \n",
    "        # Цветовые преобразования\n",
    "        A.RandomBrightnessContrast(brightness_limit=0.2, contrast_limit=0.2, p=0.5),\n",
    "        A.RandomGamma(gamma_limit=(80, 120), p=0.3),  # Гамма-коррекция\n",
    "        \n",
    "        # Размытия и шумы\n",
    "        A.GaussianBlur(blur_limit=(3, 5), p=0.2),  # Размытие по Гауссу\n",
    "        A.GaussNoise(var_limit=(5.0, 20.0), p=0.2),  # Гауссов шум\n",
    "        \n",
    "        # Обрезка и масштабирование\n",
    "        A.Resize(height=256, width=256),  # Фиксированный размер\n",
    "        \n",
    "        # Нормализация и преобразование в тензор\n",
    "        A.Normalize(mean=[0.485, 0.456, 0.406], std=[0.229, 0.224, 0.225]),\n",
    "        ToTensorV2(),\n",
    "    ])\n",
    "\n",
    "train_dataset_unet = CustomImageDataset(\n",
    "    train_images_unet_splitted,\n",
    "    transform=get_val_transforms(),\n",
    ")\n",
    "\n",
    "test_dataset_unet = CustomImageDataset(\n",
    "    val_images_unet_splitted,\n",
    "    transform=get_val_transforms(),\n",
    ")\n",
    "\n",
    "train_loader_unet = DataLoader(train_dataset_unet, shuffle=True, batch_size=32)\n",
    "test_loader_unet = DataLoader(test_dataset_unet, shuffle=True, batch_size=32)"
   ]
  },
  {
   "cell_type": "code",
   "execution_count": 25,
   "id": "3e293c37",
   "metadata": {},
   "outputs": [
    {
     "data": {
      "text/plain": [
       "torch.Size([32, 3, 256, 256])"
      ]
     },
     "execution_count": 25,
     "metadata": {},
     "output_type": "execute_result"
    }
   ],
   "source": [
    "for x, y in train_loader_unet:\n",
    "    break\n",
    "\n",
    "x.shape"
   ]
  },
  {
   "cell_type": "markdown",
   "id": "8a6fc560",
   "metadata": {},
   "source": [
    "### Model Definition"
   ]
  },
  {
   "cell_type": "code",
   "execution_count": 29,
   "id": "ec16baaa",
   "metadata": {},
   "outputs": [],
   "source": [
    "unet_plus_plus = torch.load(\"/kaggle/input/unet_effnetb7_pretrained/other/default/1/Unet-timm-efficientnet-b7_dice-0.950.pt\", weights_only=False)\n",
    "encoder = unet_plus_plus.encoder\n",
    "\n",
    "class ClsHead(nn.Module):\n",
    "    def __init__(\n",
    "        self,\n",
    "        n_classes=4,\n",
    "    ):\n",
    "        super().__init__()\n",
    "        self._encoder = encoder\n",
    "        self._cls_head = nn.Sequential(\n",
    "            nn.Linear(640, 2),\n",
    "            nn.Mish(),\n",
    "            nn.Linear(2, 16),\n",
    "            nn.Mish(),\n",
    "            nn.Linear(16, n_classes)\n",
    "        )\n",
    "        \n",
    "    def forward(self, x):\n",
    "        with torch.no_grad():\n",
    "            x = self._encoder(x)[-1]\n",
    "        x = x.mean(dim=(-2, -1))\n",
    "        x = self._cls_head(x)\n",
    "        return x\n",
    "    \n",
    "cls_head_unet = ClsHead(n_classes=4)\n",
    "cls_head_unet._cls_head.load_state_dict(torch.load('/kaggle/input/unet_cls_head_last/other/default/1/unet_head.pth'))\n",
    "cls_head_unet.to(\"cuda\")\n",
    "None"
   ]
  },
  {
   "cell_type": "code",
   "execution_count": 36,
   "id": "7e2e0f50",
   "metadata": {},
   "outputs": [],
   "source": [
    "model = smp.DeepLabV3Plus(encoder_name=\"efficientnet-b6\",\n",
    "                          encoder_weights='imagenet',\n",
    "                          in_channels=1, classes=1)\n",
    "\n",
    "model_state_dict = torch.load(\"/kaggle/input/deeplabv3stage2_pretrained/other/default/1/fold1_stage2_trained_on_size_512.pkl\", map_location=torch.device('cpu'))\n",
    "model.load_state_dict(model_state_dict)\n",
    "encoder = model.encoder\n",
    "\n",
    "\n",
    "class ClsHead(nn.Module):\n",
    "    def __init__(self, encoder, n_classes=4):\n",
    "        super().__init__()\n",
    "        self._encoder = encoder\n",
    "        self._cls_head = nn.Sequential(\n",
    "            nn.Linear(576, 4),\n",
    "            nn.Mish(),\n",
    "            nn.Linear(4, 8),\n",
    "            nn.Mish(),\n",
    "            nn.Linear(8, n_classes),\n",
    "        )\n",
    "\n",
    "    def forward(self, x):\n",
    "        with torch.no_grad():\n",
    "            out = torch.mean(self._encoder(x)[-1], dim=(-2, -1))\n",
    "        return self._cls_head(out)\n",
    "    \n",
    "cls_head_deeplab = ClsHead(encoder, n_classes=4)\n",
    "cls_head_deeplab._cls_head.load_state_dict(torch.load('/kaggle/input/deeplab_best_head-last/other/default/1/best_cls_head_deeplab (1).pth'))\n",
    "cls_head_deeplab.to(\"cuda\")\n",
    "None"
   ]
  },
  {
   "cell_type": "markdown",
   "id": "1a32773e",
   "metadata": {},
   "source": [
    "### Check model correctnes"
   ]
  },
  {
   "cell_type": "code",
   "execution_count": 37,
   "id": "8987a07e",
   "metadata": {},
   "outputs": [
    {
     "data": {
      "application/vnd.jupyter.widget-view+json": {
       "model_id": "87aefa93b253469aae90035fe35393a1",
       "version_major": 2,
       "version_minor": 0
      },
      "text/plain": [
       "  0%|          | 0/448 [00:00<?, ?it/s]"
      ]
     },
     "metadata": {},
     "output_type": "display_data"
    }
   ],
   "source": [
    "deeplab_val_predictions = defaultdict(list)\n",
    "    \n",
    "for i in tqdm(range(len(test_dataset_deeplab))):\n",
    "    with torch.no_grad():\n",
    "        features, label = test_dataset_deeplab[i]\n",
    "        out = cls_head_deeplab(features.to('cuda').unsqueeze(0))\n",
    "        out = out[0].detach().cpu().numpy().tolist()\n",
    "        pred_label = np.argmax(out)\n",
    "        deeplab_val_predictions[label.item()].append(pred_label)"
   ]
  },
  {
   "cell_type": "code",
   "execution_count": 32,
   "id": "ef19da30",
   "metadata": {},
   "outputs": [
    {
     "data": {
      "application/vnd.jupyter.widget-view+json": {
       "model_id": "01f5531e66f24d23b5023ca72cd72dbc",
       "version_major": 2,
       "version_minor": 0
      },
      "text/plain": [
       "  0%|          | 0/448 [00:00<?, ?it/s]"
      ]
     },
     "metadata": {},
     "output_type": "display_data"
    }
   ],
   "source": [
    "unet_val_predictions = defaultdict(list)\n",
    "    \n",
    "for i in tqdm(range(len(test_dataset_unet))):\n",
    "    with torch.no_grad():\n",
    "        features, label = test_dataset_unet[i]\n",
    "        out = cls_head_unet(features.to('cuda').unsqueeze(0))\n",
    "        out = out[0].detach().cpu().numpy().tolist()\n",
    "        pred_label = np.argmax(out)\n",
    "        unet_val_predictions[label.item()].append(pred_label)"
   ]
  },
  {
   "cell_type": "code",
   "execution_count": 38,
   "id": "157198b8",
   "metadata": {},
   "outputs": [
    {
     "data": {
      "image/png": "[encoded data removed]",
      "text/plain": [
       "<Figure size 800x600 with 2 Axes>"
      ]
     },
     "metadata": {},
     "output_type": "display_data"
    }
   ],
   "source": [
    "plot_confusion_matrix(deeplab_val_predictions, [0, 1, 2, 3])"
   ]
  },
  {
   "cell_type": "code",
   "execution_count": 34,
   "id": "4bd1cc73",
   "metadata": {},
   "outputs": [
    {
     "data": {
      "image/png": "[encoded data removed]",
      "text/plain": [
       "<Figure size 800x600 with 2 Axes>"
      ]
     },
     "metadata": {},
     "output_type": "display_data"
    }
   ],
   "source": [
    "plot_confusion_matrix(unet_val_predictions, [0, 1, 2, 3])"
   ]
  },
  {
   "cell_type": "markdown",
   "id": "4efb225f",
   "metadata": {},
   "source": [
    "### Model scoring"
   ]
  },
  {
   "cell_type": "code",
   "execution_count": 25,
   "id": "53c4cf67",
   "metadata": {},
   "outputs": [
    {
     "data": {
      "application/vnd.jupyter.widget-view+json": {
       "model_id": "8caea2125a0445918361de29457644e3",
       "version_major": 2,
       "version_minor": 0
      },
      "text/plain": [
       "  0%|          | 0/1292 [00:00<?, ?it/s]"
      ]
     },
     "metadata": {},
     "output_type": "display_data"
    },
    {
     "data": {
      "application/vnd.jupyter.widget-view+json": {
       "model_id": "debf5e76f86b4627b9496cbc96276d99",
       "version_major": 2,
       "version_minor": 0
      },
      "text/plain": [
       "  0%|          | 0/448 [00:00<?, ?it/s]"
      ]
     },
     "metadata": {},
     "output_type": "display_data"
    }
   ],
   "source": [
    "train_predictions_deeplab = []\n",
    "val_predictions_deeplab = []\n",
    "\n",
    "for i in tqdm(range(len(train_dataset_deeplab))):\n",
    "    with torch.no_grad():\n",
    "        features, label = train_dataset_deeplab[i]\n",
    "        out = cls_head_deeplab(features.to('cuda').unsqueeze(0))\n",
    "        out = out[0].detach().cpu().numpy().tolist()\n",
    "        train_predictions_deeplab.append(out)\n",
    "    \n",
    "for i in tqdm(range(len(test_dataset_deeplab))):\n",
    "    with torch.no_grad():\n",
    "        features, label = test_dataset_deeplab[i]\n",
    "        out = cls_head_deeplab(features.to('cuda').unsqueeze(0))\n",
    "        out = out[0].detach().cpu().numpy().tolist()\n",
    "        val_predictions_deeplab.append(out)"
   ]
  },
  {
   "cell_type": "code",
   "execution_count": 26,
   "id": "31d463c9",
   "metadata": {},
   "outputs": [
    {
     "data": {
      "application/vnd.jupyter.widget-view+json": {
       "model_id": "94df2f25245d4eabbe31bc9c97a723cd",
       "version_major": 2,
       "version_minor": 0
      },
      "text/plain": [
       "  0%|          | 0/1292 [00:00<?, ?it/s]"
      ]
     },
     "metadata": {},
     "output_type": "display_data"
    },
    {
     "data": {
      "application/vnd.jupyter.widget-view+json": {
       "model_id": "9841c0266a4249e1b11c221a01749e20",
       "version_major": 2,
       "version_minor": 0
      },
      "text/plain": [
       "  0%|          | 0/448 [00:00<?, ?it/s]"
      ]
     },
     "metadata": {},
     "output_type": "display_data"
    }
   ],
   "source": [
    "train_predictions_unet = []\n",
    "val_predictions_unet = []\n",
    "\n",
    "for i in tqdm(range(len(train_dataset_unet))):\n",
    "    with torch.no_grad():\n",
    "        features, label = train_dataset_unet[i]\n",
    "        out = cls_head_unet(features.to('cuda').unsqueeze(0))\n",
    "        out = out[0].detach().cpu().numpy().tolist()\n",
    "        train_predictions_unet.append(out)\n",
    "    \n",
    "for i in tqdm(range(len(test_dataset_unet))):\n",
    "    with torch.no_grad():\n",
    "        features, label = test_dataset_unet[i]\n",
    "        out = cls_head_unet(features.to('cuda').unsqueeze(0))\n",
    "        out = out[0].detach().cpu().numpy().tolist()\n",
    "        val_predictions_unet.append(out)"
   ]
  },
  {
   "cell_type": "code",
   "execution_count": 27,
   "id": "6d4508f0",
   "metadata": {},
   "outputs": [
    {
     "data": {
      "text/plain": [
       "[-0.5444731712341309,\n",
       " 0.059920575469732285,\n",
       " -0.0383809357881546,\n",
       " 0.514369785785675]"
      ]
     },
     "execution_count": 27,
     "metadata": {},
     "output_type": "execute_result"
    }
   ],
   "source": [
    "train_predictions_deeplab[0]"
   ]
  },
  {
   "cell_type": "code",
   "execution_count": 28,
   "id": "be6180a3",
   "metadata": {},
   "outputs": [
    {
     "data": {
      "text/plain": [
       "[-0.3137292265892029,\n",
       " 0.42460235953330994,\n",
       " -0.11603253334760666,\n",
       " 0.35122257471084595]"
      ]
     },
     "execution_count": 28,
     "metadata": {},
     "output_type": "execute_result"
    }
   ],
   "source": [
    "train_predictions_unet[0]"
   ]
  },
  {
   "cell_type": "code",
   "execution_count": 33,
   "id": "a09edf38",
   "metadata": {},
   "outputs": [],
   "source": [
    "deeplab_features_train = pd.DataFrame(train_predictions_deeplab, columns=['f1', 'f2', 'f3', 'f4'])\n",
    "deeplab_features_val = pd.DataFrame(val_predictions_deeplab, columns=['f1', 'f2', 'f3', 'f4'])\n",
    "\n",
    "unet_features_train = pd.DataFrame(train_predictions_unet, columns=['f5', 'f6', 'f7', 'f8'])\n",
    "unet_features_val = pd.DataFrame(val_predictions_unet, columns=['f5', 'f6', 'f7', 'f8'])"
   ]
  },
  {
   "cell_type": "code",
   "execution_count": 34,
   "id": "14aa57ff",
   "metadata": {},
   "outputs": [],
   "source": [
    "train_features = pd.concat([deeplab_features_train, unet_features_train], axis=1)\n",
    "val_features = pd.concat([deeplab_features_val, unet_features_val], axis=1)"
   ]
  },
  {
   "cell_type": "code",
   "execution_count": 37,
   "id": "8f29bbd6",
   "metadata": {},
   "outputs": [],
   "source": [
    "train_labels = [train_dataset_deeplab[i][1].item() for i in range(len(train_dataset_deeplab))]\n",
    "val_labels = [test_dataset_deeplab[i][1].item() for i in range(len(test_dataset_deeplab))]"
   ]
  },
  {
   "cell_type": "code",
   "execution_count": 46,
   "id": "8dfbdbee",
   "metadata": {},
   "outputs": [
    {
     "data": {
      "application/vnd.jupyter.widget-view+json": {
       "model_id": "745ee92a08c94f8f8754f767cd8425f9",
       "version_major": 2,
       "version_minor": 0
      },
      "text/plain": [
       "MetricVisualizer(layout=Layout(align_self='stretch', height='500px'))"
      ]
     },
     "metadata": {},
     "output_type": "display_data"
    },
    {
     "name": "stdout",
     "output_type": "stream",
     "text": [
      "0:\tlearn: 0.4373065\ttest: 0.3794643\tbest: 0.3794643 (0)\ttotal: 5.11ms\tremaining: 5.11s\n",
      "Stopped by overfitting detector  (50 iterations wait)\n",
      "\n",
      "bestTest = 0.3995535714\n",
      "bestIteration = 44\n",
      "\n",
      "Shrink model to first 45 iterations.\n"
     ]
    },
    {
     "data": {
      "text/plain": [
       "<catboost.core.CatBoostClassifier at 0x7af8fdc0a810>"
      ]
     },
     "execution_count": 46,
     "metadata": {},
     "output_type": "execute_result"
    }
   ],
   "source": [
    "model = CatBoostClassifier(\n",
    "    iterations=1000,  # Количество деревьев\n",
    "    learning_rate=0.1,\n",
    "    depth=6,\n",
    "    loss_function='MultiClass',  # Важно для многоклассовой классификации\n",
    "    eval_metric='Accuracy',      # Метрика для валидации\n",
    "    random_seed=42,\n",
    "    verbose=100                  # Вывод лога каждые 100 итераций\n",
    ")\n",
    "\n",
    "model.fit(\n",
    "    train_features, train_labels,\n",
    "    eval_set=(val_features, val_labels),\n",
    "    early_stopping_rounds=50,    # Остановка, если метрика не улучшается 50 итераций\n",
    "    plot=True                    # Интерактивный график обучения\n",
    ")"
   ]
  },
  {
   "cell_type": "code",
   "execution_count": 78,
   "id": "d96dd552",
   "metadata": {},
   "outputs": [],
   "source": [
    "val_predictions = []"
   ]
  },
  {
   "cell_type": "code",
   "execution_count": 79,
   "id": "def8c08b",
   "metadata": {},
   "outputs": [],
   "source": [
    "for x in val_predictions_unet:\n",
    "    val_predictions.append(np.argmax(x))"
   ]
  },
  {
   "cell_type": "code",
   "execution_count": 69,
   "id": "73b68b26",
   "metadata": {},
   "outputs": [
    {
     "data": {
      "text/plain": [
       "(1292, 1292)"
      ]
     },
     "execution_count": 69,
     "metadata": {},
     "output_type": "execute_result"
    }
   ],
   "source": [
    "len(train_predictions), len(train_labels)"
   ]
  },
  {
   "cell_type": "code",
   "execution_count": 64,
   "id": "458e1e6a",
   "metadata": {},
   "outputs": [
    {
     "data": {
      "text/plain": [
       "0.42105263157894735"
      ]
     },
     "execution_count": 64,
     "metadata": {},
     "output_type": "execute_result"
    }
   ],
   "source": [
    "accuracy_score(train_predictions, train_labels)"
   ]
  },
  {
   "cell_type": "code",
   "execution_count": 82,
   "id": "a4c9d1df",
   "metadata": {},
   "outputs": [],
   "source": [
    "val_labels = [test_dataset_unet[i][1].item() for i in range(len(test_dataset_unet))]"
   ]
  },
  {
   "cell_type": "code",
   "execution_count": 83,
   "id": "01847e57",
   "metadata": {},
   "outputs": [
    {
     "data": {
      "text/plain": [
       "0.4419642857142857"
      ]
     },
     "execution_count": 83,
     "metadata": {},
     "output_type": "execute_result"
    }
   ],
   "source": [
    "accuracy_score(val_predictions, val_labels)"
   ]
  },
  {
   "cell_type": "code",
   "execution_count": 94,
   "id": "c19001af",
   "metadata": {},
   "outputs": [
    {
     "data": {
      "application/vnd.jupyter.widget-view+json": {
       "model_id": "4218fcd671b64b3580d55fd67db8ab4c",
       "version_major": 2,
       "version_minor": 0
      },
      "text/plain": [
       "  0%|          | 0/448 [00:00<?, ?it/s]"
      ]
     },
     "metadata": {},
     "output_type": "display_data"
    }
   ],
   "source": [
    "predictions = defaultdict(list)\n",
    "\n",
    "for i in tqdm(range(len(test_dataset_unet))):\n",
    "    features, label = test_dataset_unet[i]\n",
    "    out = cls_head_unet(features.to('cuda').unsqueeze(0))\n",
    "    \n",
    "    true_label = label.item()\n",
    "    \n",
    "    predictions[true_label].append(out.argmax(dim=1).item())"
   ]
  },
  {
   "cell_type": "code",
   "execution_count": 95,
   "id": "3d2e94aa",
   "metadata": {},
   "outputs": [
    {
     "data": {
      "image/png": "[encoded data removed]",
      "text/plain": [
       "<Figure size 800x600 with 2 Axes>"
      ]
     },
     "metadata": {},
     "output_type": "display_data"
    }
   ],
   "source": [
    "plot_confusion_matrix(predictions, [0, 1, 2, 3])"
   ]
  },
  {
   "cell_type": "code",
   "execution_count": null,
   "id": "18591d81",
   "metadata": {},
   "outputs": [],
   "source": []
  }
 ],
 "metadata": {
  "kernelspec": {
   "display_name": "Python 3 (ipykernel)",
   "language": "python",
   "name": "python3"
  },
  "language_info": {
   "codemirror_mode": {
    "name": "ipython",
    "version": 3
   },
   "file_extension": ".py",
   "mimetype": "text/x-python",
   "name": "python",
   "nbconvert_exporter": "python",
   "pygments_lexer": "ipython3",
   "version": "3.11.11"
  }
 },
 "nbformat": 4,
 "nbformat_minor": 5
}
